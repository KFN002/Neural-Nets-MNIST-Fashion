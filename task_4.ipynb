{
 "cells": [
  {
   "cell_type": "markdown",
   "source": [
    "### Описание шагов находится в файле task_1.ipynb, ко второму заданию идут только код и вывод"
   ],
   "metadata": {
    "collapsed": false
   },
   "id": "c83c0b33e5b1a5d7"
  },
  {
   "cell_type": "code",
   "execution_count": 62,
   "id": "initial_id",
   "metadata": {
    "collapsed": true,
    "ExecuteTime": {
     "end_time": "2024-03-26T14:43:01.387335700Z",
     "start_time": "2024-03-26T14:43:01.356904300Z"
    }
   },
   "outputs": [],
   "source": [
    "import torch\n",
    "import torch.nn as nn\n",
    "import torch.optim as optim\n",
    "import torchvision\n",
    "import torchvision.transforms as transforms\n",
    "import matplotlib.pyplot as plt\n",
    "import numpy as np\n",
    "from IPython.display import clear_output\n",
    "from torchsummary import summary\n",
    "from sklearn.metrics import accuracy_score, precision_score, recall_score, f1_score, confusion_matrix"
   ]
  },
  {
   "cell_type": "code",
   "outputs": [],
   "source": [
    "def run(model, dataloader, loss_function, optimizer=None):\n",
    "    if optimizer is None:\n",
    "        model.eval()\n",
    "    else:\n",
    "        model.train()\n",
    "\n",
    "    total_loss = 0\n",
    "    correct_predictions = 0\n",
    "    total_predictions = 0\n",
    "    all_labels = []\n",
    "    all_preds = []\n",
    "\n",
    "    for X, y in dataloader:\n",
    "        pred = model(X)\n",
    "        loss = loss_function(pred, y)\n",
    "        total_loss += loss.item()\n",
    "        \n",
    "        _, predicted = torch.max(pred, 1)\n",
    "        correct_predictions += (predicted == y).sum().item()\n",
    "        total_predictions += y.size(0)\n",
    "        all_labels.extend(y.tolist())\n",
    "        all_preds.extend(predicted.tolist())\n",
    "        \n",
    "        if optimizer is not None:\n",
    "            loss.backward()\n",
    "            optimizer.step()\n",
    "            optimizer.zero_grad()\n",
    "\n",
    "    accuracy = correct_predictions / total_predictions\n",
    "    avg_loss = total_loss / len(dataloader)\n",
    "    \n",
    "    precision = precision_score(all_labels, all_preds, average='weighted')\n",
    "    recall = recall_score(all_labels, all_preds, average='weighted')\n",
    "    f1 = f1_score(all_labels, all_preds, average='weighted')\n",
    "    cm = confusion_matrix(all_labels, all_preds)\n",
    "    \n",
    "    return avg_loss, accuracy, precision, recall, f1, cm"
   ],
   "metadata": {
    "collapsed": false,
    "ExecuteTime": {
     "end_time": "2024-03-26T14:43:01.407844800Z",
     "start_time": "2024-03-26T14:43:01.393755900Z"
    }
   },
   "id": "5d7874d263386b3b",
   "execution_count": 63
  },
  {
   "cell_type": "code",
   "outputs": [],
   "source": [
    "def show_losses(train_loss_hist, val_loss_hist, train_acc_hist, val_acc_hist):\n",
    "    clear_output()\n",
    "\n",
    "    plt.figure(figsize=(18, 6))\n",
    "\n",
    "    plt.subplot(1, 2, 1)\n",
    "    plt.title('Loss')\n",
    "    plt.plot(np.arange(len(train_loss_hist)), train_loss_hist, label='Train Loss')\n",
    "    plt.plot(np.arange(len(val_loss_hist)), val_loss_hist, label='Validation Loss')\n",
    "    plt.yscale('log')\n",
    "    plt.xlabel('Epoch')\n",
    "    plt.ylabel('Loss')\n",
    "    plt.grid()\n",
    "    plt.legend()\n",
    "\n",
    "    plt.subplot(1, 2, 2)\n",
    "    plt.title('Accuracy')\n",
    "    plt.plot(np.arange(len(train_acc_hist)), train_acc_hist, label='Train Accuracy')\n",
    "    plt.plot(np.arange(len(val_acc_hist)), val_acc_hist, label='Validation Accuracy')\n",
    "    plt.xlabel('Epoch')\n",
    "    plt.ylabel('Accuracy')\n",
    "    plt.grid()\n",
    "    plt.legend()\n",
    "\n",
    "    plt.show()"
   ],
   "metadata": {
    "collapsed": false,
    "ExecuteTime": {
     "end_time": "2024-03-26T14:43:01.440984400Z",
     "start_time": "2024-03-26T14:43:01.413838Z"
    }
   },
   "id": "5389be73c0b85532",
   "execution_count": 64
  },
  {
   "cell_type": "code",
   "outputs": [],
   "source": [
    "train_transform = transforms.Compose([\n",
    "    transforms.RandomHorizontalFlip(p=0.5),\n",
    "    transforms.ColorJitter(brightness=0.2, contrast=0.2, saturation=0.2, hue=0.2),\n",
    "    transforms.ToTensor(),\n",
    "    transforms.Normalize((0.5,), (0.5,))\n",
    "])\n",
    "\n",
    "test_transform = transforms.Compose([\n",
    "    transforms.ToTensor(),\n",
    "    transforms.Normalize((0.5,), (0.5,))\n",
    "])"
   ],
   "metadata": {
    "collapsed": false,
    "ExecuteTime": {
     "end_time": "2024-03-26T14:43:01.440984400Z",
     "start_time": "2024-03-26T14:43:01.417830700Z"
    }
   },
   "id": "608beae073ce3c34",
   "execution_count": 65
  },
  {
   "cell_type": "code",
   "outputs": [],
   "source": [
    "trainset = torchvision.datasets.FashionMNIST(root='./data', train=True, download=True, transform=train_transform)\n",
    "valset = torchvision.datasets.FashionMNIST(root='./data', train=True, download=True, transform=test_transform)\n",
    "testset = torchvision.datasets.FashionMNIST(root='./data', train=False, download=True, transform=test_transform)"
   ],
   "metadata": {
    "collapsed": false,
    "ExecuteTime": {
     "end_time": "2024-03-26T14:43:01.502674900Z",
     "start_time": "2024-03-26T14:43:01.441985200Z"
    }
   },
   "id": "3cc25fa3165d21c8",
   "execution_count": 66
  },
  {
   "cell_type": "code",
   "outputs": [],
   "source": [
    "val_size = int(0.1 * len(trainset))\n",
    "test_size = int(0.1 * len(trainset))\n",
    "train_size = len(trainset) - val_size - test_size\n",
    "trainset, valset, testset = torch.utils.data.random_split(trainset, [train_size, val_size, test_size])\n",
    "trainloader = torch.utils.data.DataLoader(trainset, batch_size=64, shuffle=True)\n",
    "valloader = torch.utils.data.DataLoader(valset, batch_size=64, shuffle=False)\n",
    "testloader = torch.utils.data.DataLoader(testset, batch_size=64, shuffle=False)"
   ],
   "metadata": {
    "collapsed": false,
    "ExecuteTime": {
     "end_time": "2024-03-26T14:43:01.522391200Z",
     "start_time": "2024-03-26T14:43:01.498670500Z"
    }
   },
   "id": "38c9d63855a7c505",
   "execution_count": 67
  },
  {
   "cell_type": "markdown",
   "source": [
    "Немного перепишем модель, сделаем отдельный класс для удобства"
   ],
   "metadata": {
    "collapsed": false
   },
   "id": "9e8139bd62702afa"
  },
  {
   "cell_type": "code",
   "outputs": [],
   "source": [
    "class SkipConnectionModel(nn.Module):\n",
    "    def __init__(self):\n",
    "        super(SkipConnectionModel, self).__init__()\n",
    "        self.conv1 = nn.Conv2d(1, 64, kernel_size=3, padding=1)  \n",
    "        self.relu1 = nn.ReLU()\n",
    "        self.maxpool1 = nn.MaxPool2d(2)\n",
    "\n",
    "        self.conv2 = nn.Conv2d(64, 64, kernel_size=3, padding=1) \n",
    "        self.relu2 = nn.ReLU()\n",
    "        self.maxpool2 = nn.MaxPool2d(2)\n",
    "\n",
    "        self.flatten = nn.Flatten()\n",
    "\n",
    "        self.linear1 = nn.Linear(64 * 7 * 7, 128)\n",
    "        self.relu3 = nn.ReLU()\n",
    "        self.dropout1 = nn.Dropout(0.5)\n",
    "\n",
    "        self.linear2 = nn.Linear(128, 64)\n",
    "        self.relu4 = nn.ReLU()\n",
    "        self.dropout2 = nn.Dropout(0.5)\n",
    "\n",
    "        self.linear3 = nn.Linear(64, 10)\n",
    "\n",
    "    def forward(self, x):\n",
    "        x1 = self.conv1(x)\n",
    "        x2 = self.relu1(x1)\n",
    "        x3 = self.maxpool1(x2)\n",
    "\n",
    "        x1_adjusted = torch.nn.functional.interpolate(x1, size=(x3.size(2), x3.size(3)))\n",
    "\n",
    "        x4 = self.conv2(x3)\n",
    "        x1_adjusted = torch.nn.functional.interpolate(x1_adjusted, size=(x4.size(2), x4.size(3)))\n",
    "        x4 += x1_adjusted\n",
    "        x5 = self.relu2(x4)\n",
    "        x6 = self.maxpool2(x5)\n",
    "\n",
    "        x7 = self.flatten(x6)\n",
    "\n",
    "        x8 = self.linear1(x7)\n",
    "        x9 = self.relu3(x8)\n",
    "        x9 = self.dropout1(x9)\n",
    "\n",
    "        x10 = self.linear2(x9)\n",
    "        x11 = self.relu4(x10)\n",
    "        x11 = self.dropout2(x11)\n",
    "\n",
    "        x12 = self.linear3(x11)\n",
    "\n",
    "        return x12\n",
    "\n",
    "\n",
    "model = SkipConnectionModel()"
   ],
   "metadata": {
    "collapsed": false,
    "ExecuteTime": {
     "end_time": "2024-03-26T14:43:01.523390900Z",
     "start_time": "2024-03-26T14:43:01.512982100Z"
    }
   },
   "id": "26f95f9a7046fa2d",
   "execution_count": 68
  },
  {
   "cell_type": "code",
   "outputs": [],
   "source": [
    "loss_func = nn.CrossEntropyLoss()\n",
    "optimizer = optim.SGD(model.parameters(), lr=0.01, momentum=0.9)"
   ],
   "metadata": {
    "collapsed": false,
    "ExecuteTime": {
     "end_time": "2024-03-26T14:43:01.547653900Z",
     "start_time": "2024-03-26T14:43:01.518979Z"
    }
   },
   "id": "db4f72701931d39e",
   "execution_count": 69
  },
  {
   "cell_type": "code",
   "outputs": [],
   "source": [
    "epochs = 20\n",
    "train_losses = []\n",
    "val_losses = []\n",
    "train_accuracy = []\n",
    "val_accuracy = []"
   ],
   "metadata": {
    "collapsed": false,
    "ExecuteTime": {
     "end_time": "2024-03-26T14:43:01.549654100Z",
     "start_time": "2024-03-26T14:43:01.525947500Z"
    }
   },
   "id": "f0bdddb5fe1921e6",
   "execution_count": 70
  },
  {
   "cell_type": "code",
   "outputs": [
    {
     "data": {
      "text/plain": "<Figure size 1800x600 with 2 Axes>",
      "image/png": "[encoded data removed]"
     },
     "metadata": {},
     "output_type": "display_data"
    },
    {
     "name": "stdout",
     "output_type": "stream",
     "text": [
      "Epoch 20/20, Train Loss: 0.2313, Val Loss: 0.2504\n"
     ]
    }
   ],
   "source": [
    "for epoch in range(epochs):\n",
    "    train_loss = run(model, trainloader, loss_func, optimizer)\n",
    "    val_loss = run(model, valloader, loss_func)\n",
    "    \n",
    "    train_losses.append(train_loss[0])\n",
    "    val_losses.append(val_loss[0])\n",
    "    train_accuracy.append(train_loss[1])\n",
    "    val_accuracy.append(val_loss[1])\n",
    "\n",
    "    show_losses(train_losses, val_losses, train_accuracy, val_accuracy)\n",
    "    print(f'Epoch {epoch + 1}/{epochs}, Train Loss: {train_loss[0]:.4f}, Val Loss: {val_loss[0]:.4f}')"
   ],
   "metadata": {
    "collapsed": false
   },
   "id": "7d8956585cf83adb",
   "execution_count": 71
  },
  {
   "cell_type": "code",
   "outputs": [
    {
     "name": "stdout",
     "output_type": "stream",
     "text": [
      "----------------------------------------------------------------\n",
      "        Layer (type)               Output Shape         Param #\n",
      "================================================================\n",
      "            Conv2d-1           [-1, 64, 28, 28]             640\n",
      "              ReLU-2           [-1, 64, 28, 28]               0\n",
      "         MaxPool2d-3           [-1, 64, 14, 14]               0\n",
      "            Conv2d-4           [-1, 64, 14, 14]          36,928\n",
      "              ReLU-5           [-1, 64, 14, 14]               0\n",
      "         MaxPool2d-6             [-1, 64, 7, 7]               0\n",
      "           Flatten-7                 [-1, 3136]               0\n",
      "            Linear-8                  [-1, 128]         401,536\n",
      "              ReLU-9                  [-1, 128]               0\n",
      "          Dropout-10                  [-1, 128]               0\n",
      "           Linear-11                   [-1, 64]           8,256\n",
      "             ReLU-12                   [-1, 64]               0\n",
      "          Dropout-13                   [-1, 64]               0\n",
      "           Linear-14                   [-1, 10]             650\n",
      "================================================================\n",
      "Total params: 448,010\n",
      "Trainable params: 448,010\n",
      "Non-trainable params: 0\n",
      "----------------------------------------------------------------\n",
      "Input size (MB): 0.00\n",
      "Forward/backward pass size (MB): 1.11\n",
      "Params size (MB): 1.71\n",
      "Estimated Total Size (MB): 2.82\n",
      "----------------------------------------------------------------\n"
     ]
    }
   ],
   "source": [
    "summary(model, (1, 28, 28))"
   ],
   "metadata": {
    "collapsed": false,
    "ExecuteTime": {
     "end_time": "2024-03-26T15:03:13.312544600Z",
     "start_time": "2024-03-26T15:03:13.257158500Z"
    }
   },
   "id": "ebc54dc1bb70e02a",
   "execution_count": 72
  },
  {
   "cell_type": "code",
   "outputs": [],
   "source": [
    "test_loss, test_accuracy, test_precision, test_recall, test_f1, test_cm = run(model, testloader, loss_func)\n",
    "val_loss, val_accuracy, val_precision, val_recall, val_f1, val_cm = run(model, valloader, loss_func)"
   ],
   "metadata": {
    "collapsed": false,
    "ExecuteTime": {
     "end_time": "2024-03-26T15:03:22.055430300Z",
     "start_time": "2024-03-26T15:03:13.269594100Z"
    }
   },
   "id": "c5a72420581bd7f1",
   "execution_count": 73
  },
  {
   "cell_type": "code",
   "outputs": [
    {
     "name": "stdout",
     "output_type": "stream",
     "text": [
      "Validation Accuracy: 0.9100\n",
      "Validation Precision: 0.9096\n",
      "Validation Recall: 0.9100\n",
      "Validation F1 Score: 0.9091\n",
      "Validation Confusion Matrix:\n",
      "[[562   1  17  16   0   1  33   0   2   0]\n",
      " [  1 549   1   9   1   0   1   0   0   0]\n",
      " [  9   0 551   6  33   0  21   0   1   0]\n",
      " [  7   3   2 562   8   0  10   0   1   0]\n",
      " [  1   1  35  32 490   0  34   0   1   0]\n",
      " [  0   0   1   0   0 559   1  17   0   3]\n",
      " [ 86   1  43  15  33   0 415   0   3   0]\n",
      " [  0   0   0   0   0   5   0 602   0  12]\n",
      " [  1   0   1   1   0   0   3   0 613   0]\n",
      " [  0   0   0   0   0   2   1  23   0 557]]\n"
     ]
    }
   ],
   "source": [
    "print(f'Validation Accuracy: {val_accuracy:.4f}')\n",
    "print(f'Validation Precision: {val_precision:.4f}')\n",
    "print(f'Validation Recall: {val_recall:.4f}')\n",
    "print(f'Validation F1 Score: {val_f1:.4f}')\n",
    "print('Validation Confusion Matrix:')\n",
    "print(val_cm)"
   ],
   "metadata": {
    "collapsed": false,
    "ExecuteTime": {
     "end_time": "2024-03-26T15:03:22.106049900Z",
     "start_time": "2024-03-26T15:03:22.056430500Z"
    }
   },
   "id": "b4cc82672c1bb7fc",
   "execution_count": 74
  },
  {
   "cell_type": "code",
   "outputs": [
    {
     "name": "stdout",
     "output_type": "stream",
     "text": [
      "Test Accuracy: 0.9175\n",
      "Test Precision: 0.9169\n",
      "Test Recall: 0.9175\n",
      "Test F1 Score: 0.9167\n",
      "Test Confusion Matrix:\n",
      "[[542   0  11  17   2   0  38   0   3   0]\n",
      " [  2 622   1   6   1   0   0   0   1   0]\n",
      " [  9   0 543   3  22   0  23   1   2   0]\n",
      " [  6   0   2 545   9   0  10   0   1   0]\n",
      " [  1   1  26  18 542   0  31   0   2   0]\n",
      " [  0   0   0   0   0 576   0  13   0   6]\n",
      " [ 76   1  48  24  25   0 395   0   2   0]\n",
      " [  0   0   0   0   0   4   0 595   0  12]\n",
      " [  1   0   2   2   1   2   4   0 574   0]\n",
      " [  0   0   0   0   0   2   0  21   0 571]]\n"
     ]
    }
   ],
   "source": [
    "print(f'Test Accuracy: {test_accuracy:.4f}')\n",
    "print(f'Test Precision: {test_precision:.4f}')\n",
    "print(f'Test Recall: {test_recall:.4f}')\n",
    "print(f'Test F1 Score: {test_f1:.4f}')\n",
    "print('Test Confusion Matrix:')\n",
    "print(test_cm)"
   ],
   "metadata": {
    "collapsed": false,
    "ExecuteTime": {
     "end_time": "2024-03-26T15:03:22.107052800Z",
     "start_time": "2024-03-26T15:03:22.060193300Z"
    }
   },
   "id": "acfbbf0c03229758",
   "execution_count": 75
  },
  {
   "cell_type": "markdown",
   "source": [
    "Модель показывает лучшие метрики со skip-connection, но явно заметно влияние аугментации трейновых данных (хуже, чем могло быть, но в задании прописано \"добавить\", поэтому убирать аугментации не буду). По ощущениям, время обучения немного снизилось. Графики обучения имеют пересечение, да и в целом похоже, что в модели присутствует переобучение."
   ],
   "metadata": {
    "collapsed": false
   },
   "id": "db41d127a5d7b78d"
  }
 ],
 "metadata": {
  "kernelspec": {
   "display_name": "Python 3",
   "language": "python",
   "name": "python3"
  },
  "language_info": {
   "codemirror_mode": {
    "name": "ipython",
    "version": 2
   },
   "file_extension": ".py",
   "mimetype": "text/x-python",
   "name": "python",
   "nbconvert_exporter": "python",
   "pygments_lexer": "ipython2",
   "version": "2.7.6"
  }
 },
 "nbformat": 4,
 "nbformat_minor": 5
}
